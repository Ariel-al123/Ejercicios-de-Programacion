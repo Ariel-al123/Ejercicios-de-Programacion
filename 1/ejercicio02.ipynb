{
 "cells": [
  {
   "cell_type": "markdown",
   "metadata": {},
   "source": [
    "### Escribe una funcion donde calcule la edad y usa un mensaje para calcularla 🤶👻"
   ]
  },
  {
   "cell_type": "markdown",
   "metadata": {},
   "source": [
    "#### Sin retornar un valor"
   ]
  },
  {
   "cell_type": "code",
   "execution_count": 34,
   "metadata": {},
   "outputs": [
    {
     "name": "stdout",
     "output_type": "stream",
     "text": [
      "Hola 👋 Hugo tienes 15 años\n"
     ]
    }
   ],
   "source": [
    "def mensaje(nombre:str, a_nac:int)->None:\n",
    "    edad = 2025-a_nac\n",
    "    print(\"Hola 👋\", nombre, \"tienes\", edad, \"años\")\n",
    "\n",
    "mensaje(\"Hugo\", 2010)"
   ]
  },
  {
   "cell_type": "code",
   "execution_count": 35,
   "metadata": {},
   "outputs": [
    {
     "name": "stdout",
     "output_type": "stream",
     "text": [
      "Hola 👋 Paco tienes 2005 años\n",
      "None\n"
     ]
    }
   ],
   "source": [
    "msg = mensaje(\"Paco\",20)\n",
    "print(msg)"
   ]
  },
  {
   "cell_type": "markdown",
   "metadata": {},
   "source": [
    "#### Retornando un valor"
   ]
  },
  {
   "cell_type": "code",
   "execution_count": 36,
   "metadata": {},
   "outputs": [
    {
     "name": "stdout",
     "output_type": "stream",
     "text": [
      "Hola 👋Luis tienes 8 años\n"
     ]
    }
   ],
   "source": [
    "def mensaje(nombre:str, a_nac:int)->str:\n",
    "    edad = 2024-a_nac\n",
    "    msg= \"Hola 👋\" + nombre + \" tienes \" + str(edad) + \" años\"\n",
    "    return msg\n",
    "\n",
    "msg = mensaje(\"Luis\",2016)\n",
    "print(msg)"
   ]
  }
 ],
 "metadata": {
  "kernelspec": {
   "display_name": "Python 3",
   "language": "python",
   "name": "python3"
  },
  "language_info": {
   "codemirror_mode": {
    "name": "ipython",
    "version": 3
   },
   "file_extension": ".py",
   "mimetype": "text/x-python",
   "name": "python",
   "nbconvert_exporter": "python",
   "pygments_lexer": "ipython3",
   "version": "3.12.6"
  }
 },
 "nbformat": 4,
 "nbformat_minor": 2
}
