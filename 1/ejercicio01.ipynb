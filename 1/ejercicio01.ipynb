{
 "cells": [
  {
   "cell_type": "markdown",
   "metadata": {},
   "source": [
    "### 🫨  Crear una calculadora que Sume, Reste, Multiplique, Divida y Elevé 👩‍🚀"
   ]
  },
  {
   "cell_type": "markdown",
   "metadata": {},
   "source": [
    "### Version 1 👩‍🚀"
   ]
  },
  {
   "cell_type": "code",
   "execution_count": null,
   "metadata": {},
   "outputs": [],
   "source": [
    "def suma(a,b)->int:\n",
    "    return a + b\n",
    "\n",
    "def resta(a,b)->int:\n",
    "    return a - b \n",
    "\n",
    "def multi(a,b)->int:\n",
    "    return a * b \n",
    "\n",
    "def divi(a,b)->int:\n",
    "    return a / b \n",
    "\n",
    "def cuadrado(a)->int:\n",
    "    return a * a "
   ]
  },
  {
   "cell_type": "code",
   "execution_count": null,
   "metadata": {},
   "outputs": [],
   "source": [
    "print(\"1-.Suma\")\n",
    "print(\"2-.Resta\")\n",
    "print(\"3-.Multiplicacion\")\n",
    "print(\"4-.Division\")\n",
    "print(\"5-.Cuadrado\")\n",
    "opcion = input(\"Seleccione la opccion\")\n",
    "\n",
    "a=5\n",
    "b=8.5\n",
    "\n",
    "if opcion == 1:\n",
    "    print(suma(a,b))\n",
    "elif opcion == 2:\n",
    "    print(resta(a,b))\n",
    "elif opcion == 3:\n",
    "    print(multi(a,b))\n",
    "elif opcion == 4:\n",
    "   print(divi(a,b))\n",
    "elif opcion == 5:\n",
    "   print(cuadrado(a))"
   ]
  },
  {
   "cell_type": "markdown",
   "metadata": {},
   "source": [
    "### Version 2 👽"
   ]
  },
  {
   "cell_type": "code",
   "execution_count": null,
   "metadata": {},
   "outputs": [],
   "source": [
    "a=5\n",
    "b=8.5\n",
    "\n",
    "def operaciones(a:int|float,b:int|float)->tuple:\n",
    "    return a+b,a-b,a*b,a/b,a*a\n",
    "    \n",
    "s,r,c,m,d = operaciones(a,b)\n",
    "print(f\"suma es: {s}\")\n"
   ]
  }
 ],
 "metadata": {
  "language_info": {
   "name": "python"
  }
 },
 "nbformat": 4,
 "nbformat_minor": 2
}
