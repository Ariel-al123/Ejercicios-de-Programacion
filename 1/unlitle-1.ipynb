{
 "cells": [
  {
   "cell_type": "markdown",
   "metadata": {},
   "source": [
    "### Pregunta el nombre de una persona (nombre, paterno, materno) y la edad. Escriba en pantalla:\n",
    "    nombre: <paterno> <materno> <nombre>\n",
    "    edad: <edad>"
   ]
  },
  {
   "cell_type": "code",
   "execution_count": 14,
   "metadata": {},
   "outputs": [
    {
     "name": "stdout",
     "output_type": "stream",
     "text": [
      "Nombre:    \n",
      "Edad:  88\n"
     ]
    }
   ],
   "source": [
    "nombre:str = input(\"Escribe tu nombre\")\n",
    "paterno:str = input(\"Escribe tu apellido peterno\")\n",
    "materno:str = input(\"Escribe tu apellido materno\")\n",
    "edad:int = input(\"Dame tu edad\")\n",
    "print(\"Nombre: \" , paterno , materno,nombre)\n",
    "print(\"Edad: \" , edad)"
   ]
  },
  {
   "cell_type": "code",
   "execution_count": 8,
   "metadata": {},
   "outputs": [
    {
     "name": "stdout",
     "output_type": "stream",
     "text": [
      "140736054058240 140736054058240\n"
     ]
    },
    {
     "data": {
      "text/plain": [
       "str"
      ]
     },
     "execution_count": 8,
     "metadata": {},
     "output_type": "execute_result"
    }
   ],
   "source": [
    "#Id de las variables\n",
    "print(id(edad),id(nombre))\n",
    "#Tipo de dato\n",
    "type(edad)\n"
   ]
  },
  {
   "cell_type": "code",
   "execution_count": null,
   "metadata": {},
   "outputs": [],
   "source": [
    "anios = 21"
   ]
  },
  {
   "cell_type": "code",
   "execution_count": null,
   "metadata": {},
   "outputs": [
    {
     "data": {
      "text/plain": [
       "67"
      ]
     },
     "execution_count": 20,
     "metadata": {},
     "output_type": "execute_result"
    }
   ],
   "source": [
    "#Conversion de tipos de datos\n",
    "int(edad) - int(anios)"
   ]
  },
  {
   "cell_type": "markdown",
   "metadata": {},
   "source": [
    "### Preguntar el año de nacimiento de una persona y escribir en pantalla que edad tienen"
   ]
  },
  {
   "cell_type": "code",
   "execution_count": 19,
   "metadata": {},
   "outputs": [
    {
     "name": "stdout",
     "output_type": "stream",
     "text": [
      "Tienes  2012 años\n"
     ]
    }
   ],
   "source": [
    "nacimento = input(\"Dame tu nombre\")\n",
    "anios = 2024 - int(nacimento)\n",
    "\n",
    "print(\"Tienes \", anios, \"años\")"
   ]
  },
  {
   "cell_type": "markdown",
   "metadata": {},
   "source": [
    "### tarea\n",
    "1-.Calcula el perimetro y el area de un cuadrado, preguntale su lado\n",
    "2-.Calcule el perimetro del area de un rectangulo, preguntando sus lados\n",
    "3-.Calcule el perimetro del y el area de un triangulo, preguntando la base y la altura\n",
    "4-.Calcule el perimetro y el area de una circunferencia preguntando el radio\n",
    "5-.Calcule el volumen de un cubo preguntando su lado\n",
    "6-.Calcule el volumen de un paralelepido rectangular sus lados"
   ]
  }
 ],
 "metadata": {
  "kernelspec": {
   "display_name": "Python 3",
   "language": "python",
   "name": "python3"
  },
  "language_info": {
   "codemirror_mode": {
    "name": "ipython",
    "version": 3
   },
   "file_extension": ".py",
   "mimetype": "text/x-python",
   "name": "python",
   "nbconvert_exporter": "python",
   "pygments_lexer": "ipython3",
   "version": "3.12.6"
  }
 },
 "nbformat": 4,
 "nbformat_minor": 2
}
