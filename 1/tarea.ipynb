{
 "cells": [
  {
   "cell_type": "markdown",
   "metadata": {},
   "source": [
    "### tarea\n",
    "#### 1-.Calcula el perimetro y el area de un cuadrado, preguntale su lado\n",
    "#### 2-.Calcule el perimetro del area de un rectangulo, preguntando sus lados\n",
    "#### 3-.Calcule el perimetro del y el area de un triangulo, preguntando la base y la altura\n",
    "#### 4-.Calcule el perimetro y el area de una circunferencia preguntando el radio de un circulo\n",
    "#### 5-.Calcule el volumen de un cubo preguntando su lado\n",
    "#### 6-.Calcule el volumen de un paralelepido rectangular sus lados"
   ]
  },
  {
   "cell_type": "code",
   "execution_count": 1,
   "metadata": {},
   "outputs": [
    {
     "name": "stdout",
     "output_type": "stream",
     "text": [
      "1- Perímetro y el área de un cuadrado\n",
      "2- Perímetro del área de un rectángulo\n",
      "3- Perímetro y el área de un triángulo\n",
      "4- Perímetro y el área de una circunferencia\n",
      "5- Volumen de un cubo\n",
      "6- Volumen de un paralelepípedo\n",
      "----------------------------------------------------\n"
     ]
    }
   ],
   "source": [
    "print(\"1- Perímetro y el área de un cuadrado\")\n",
    "print(\"2- Perímetro del área de un rectángulo\")\n",
    "print(\"3- Perímetro y el área de un triángulo\")\n",
    "print(\"4- Perímetro y el área de una circunferencia\")\n",
    "print(\"5- Volumen de un cubo\")\n",
    "print(\"6- Volumen de un paralelepípedo\")\n",
    "print(\"----------------------------------------------------\")\n",
    "\n",
    "opccion = int(input(\"Selecciona una opción: \"))"
   ]
  },
  {
   "cell_type": "code",
   "execution_count": 2,
   "metadata": {},
   "outputs": [],
   "source": [
    "def cuadrado(lado, base):\n",
    "    if base == 0:\n",
    "        perimetro = lado * 4\n",
    "        area = lado * lado\n",
    "    else:\n",
    "         perimetro = (base*2)+(lado*2)\n",
    "         area = base * lado\n",
    "\n",
    "    print(\"El Perimetro es: \",perimetro)\n",
    "    print(\"El Área es: \",area)\n"
   ]
  },
  {
   "cell_type": "code",
   "execution_count": 3,
   "metadata": {},
   "outputs": [
    {
     "name": "stdout",
     "output_type": "stream",
     "text": [
      "El Perimetro es:  33.2\n",
      "El Área es:  68.89000000000001\n"
     ]
    }
   ],
   "source": [
    "if opccion == 1:\n",
    "    lado:float = 8.3\n",
    "    cuadrado(lado,0)\n",
    "elif opccion == 2:\n",
    "    altura:float = 5.7\n",
    "    base:float = 4.2\n",
    "    cuadrado(altura,base)\n"
   ]
  },
  {
   "cell_type": "code",
   "execution_count": null,
   "metadata": {},
   "outputs": [],
   "source": []
  }
 ],
 "metadata": {
  "kernelspec": {
   "display_name": "Python 3",
   "language": "python",
   "name": "python3"
  },
  "language_info": {
   "codemirror_mode": {
    "name": "ipython",
    "version": 3
   },
   "file_extension": ".py",
   "mimetype": "text/x-python",
   "name": "python",
   "nbconvert_exporter": "python",
   "pygments_lexer": "ipython3",
   "version": "3.12.6"
  }
 },
 "nbformat": 4,
 "nbformat_minor": 2
}
