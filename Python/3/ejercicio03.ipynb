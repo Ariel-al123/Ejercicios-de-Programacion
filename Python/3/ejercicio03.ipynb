{
 "cells": [
  {
   "cell_type": "markdown",
   "metadata": {},
   "source": [
    "### Pregunta el nombre de una persona (nombre, paterno, materno) y la edad. Escriba en pantalla:\n",
    "    nombre: <paterno> <materno> <nombre>\n",
    "    edad: <edad>"
   ]
  },
  {
   "cell_type": "code",
   "execution_count": 7,
   "metadata": {},
   "outputs": [
    {
     "name": "stdout",
     "output_type": "stream",
     "text": [
      "Nombre:    \n",
      "Edad:  88\n"
     ]
    }
   ],
   "source": [
    "nombre:str = input(\"Escribe tu nombre\")\n",
    "paterno:str = input(\"Escribe tu apellido peterno\")\n",
    "materno:str = input(\"Escribe tu apellido materno\")\n",
    "edad:int = input(\"Dame tu edad\")\n",
    "print(\"Nombre: \" , paterno , materno,nombre)\n",
    "print(\"Edad: \" , edad)"
   ]
  },
  {
   "cell_type": "code",
   "execution_count": 8,
   "metadata": {},
   "outputs": [
    {
     "name": "stdout",
     "output_type": "stream",
     "text": [
      "2459412228944 140736346021120\n"
     ]
    },
    {
     "data": {
      "text/plain": [
       "str"
      ]
     },
     "execution_count": 8,
     "metadata": {},
     "output_type": "execute_result"
    }
   ],
   "source": [
    "#Id de las variables\n",
    "print(id(edad),id(nombre))\n",
    "#Tipo de dato\n",
    "type(edad)\n"
   ]
  },
  {
   "cell_type": "markdown",
   "metadata": {},
   "source": [
    "### Version 2 👩‍🚀👽"
   ]
  },
  {
   "cell_type": "code",
   "execution_count": null,
   "metadata": {},
   "outputs": [
    {
     "name": "stdout",
     "output_type": "stream",
     "text": [
      "Tienes  2012 años\n"
     ]
    }
   ],
   "source": [
    "nacimento = input(\"Dame tu nombre\")\n",
    "# int() convierte a entero\n",
    "anios = 2024 - int(nacimento)\n",
    "\n",
    "print(\"Tienes \", anios, \"años\")"
   ]
  }
 ],
 "metadata": {
  "kernelspec": {
   "display_name": "Python 3",
   "language": "python",
   "name": "python3"
  },
  "language_info": {
   "codemirror_mode": {
    "name": "ipython",
    "version": 3
   },
   "file_extension": ".py",
   "mimetype": "text/x-python",
   "name": "python",
   "nbconvert_exporter": "python",
   "pygments_lexer": "ipython3",
   "version": "3.12.6"
  }
 },
 "nbformat": 4,
 "nbformat_minor": 2
}
