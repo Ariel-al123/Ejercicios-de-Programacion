{
 "cells": [
  {
   "cell_type": "markdown",
   "metadata": {},
   "source": [
    "#### Calcule el perimetro y el area de una circunferencia preguntando el radio de un circulo"
   ]
  },
  {
   "cell_type": "code",
   "execution_count": 1,
   "metadata": {},
   "outputs": [],
   "source": [
    "def Perimetro(radio:int|float)->None:\n",
    "    perimetro = 2 * 3.1416 * radio\n",
    "    print(\"El Área es: \", radio)"
   ]
  },
  {
   "cell_type": "code",
   "execution_count": 2,
   "metadata": {},
   "outputs": [],
   "source": [
    "def Area(radio:int|float)->None:\n",
    "    area = 3.1416 * (radio**2)\n",
    "    print(\"El Área es: \", area)"
   ]
  },
  {
   "cell_type": "code",
   "execution_count": 3,
   "metadata": {},
   "outputs": [
    {
     "name": "stdout",
     "output_type": "stream",
     "text": [
      "El Área es:  5.0\n",
      "El Área es:  78.53999999999999\n"
     ]
    }
   ],
   "source": [
    "radio = float(input(\"Ingrese el radio del círculo: \"))\n",
    "Perimetro(radio)\n",
    "Area(radio)"
   ]
  }
 ],
 "metadata": {
  "kernelspec": {
   "display_name": "Python 3",
   "language": "python",
   "name": "python3"
  },
  "language_info": {
   "codemirror_mode": {
    "name": "ipython",
    "version": 3
   },
   "file_extension": ".py",
   "mimetype": "text/x-python",
   "name": "python",
   "nbconvert_exporter": "python",
   "pygments_lexer": "ipython3",
   "version": "3.12.6"
  }
 },
 "nbformat": 4,
 "nbformat_minor": 2
}
