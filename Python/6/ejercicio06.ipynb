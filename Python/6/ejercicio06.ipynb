{
 "cells": [
  {
   "cell_type": "markdown",
   "metadata": {},
   "source": [
    "#### Calcule el perimetro del y el area de un triangulo, preguntando la base y la altura"
   ]
  },
  {
   "cell_type": "code",
   "execution_count": 7,
   "metadata": {},
   "outputs": [],
   "source": [
    "def Perimetro(a:int|float,b:int|float,c:int|float)->int|float:\n",
    "    return a+b+c"
   ]
  },
  {
   "cell_type": "code",
   "execution_count": 8,
   "metadata": {},
   "outputs": [],
   "source": [
    "def Area(a:int|float,b:int|float,c:int|float)->int|float:\n",
    "    p = (a+b+c)/2\n",
    "    return (p*(p-a)*(p-b)*(p-c))/2"
   ]
  },
  {
   "cell_type": "code",
   "execution_count": 9,
   "metadata": {},
   "outputs": [
    {
     "name": "stdout",
     "output_type": "stream",
     "text": [
      "12.0\n",
      "18.0\n"
     ]
    }
   ],
   "source": [
    "input1 = input(\"Ingrese el primer lado: \")\n",
    "input2 = input(\"Ingrese el base lado: \")\n",
    "input3 = input(\"Ingrese el tercer lado: \")\n",
    "print(Perimetro(float(input1),float(input2),float(input3)))\n",
    "print(Area(float(input1),float(input2),float(input3)))"
   ]
  }
 ],
 "metadata": {
  "kernelspec": {
   "display_name": "Python 3",
   "language": "python",
   "name": "python3"
  },
  "language_info": {
   "codemirror_mode": {
    "name": "ipython",
    "version": 3
   },
   "file_extension": ".py",
   "mimetype": "text/x-python",
   "name": "python",
   "nbconvert_exporter": "python",
   "pygments_lexer": "ipython3",
   "version": "3.12.6"
  }
 },
 "nbformat": 4,
 "nbformat_minor": 2
}
