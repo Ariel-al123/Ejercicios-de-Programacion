{
 "cells": [
  {
   "cell_type": "markdown",
   "metadata": {},
   "source": [
    "#### Calcule el volumen de un paralelepido rectangular sus lados"
   ]
  },
  {
   "cell_type": "code",
   "execution_count": 1,
   "metadata": {},
   "outputs": [],
   "source": [
    "def Volumen(a:int|float,b:int|float,c:int|float)->None:\n",
    "    volumen = a*b*c\n",
    "    print(\"El volumen del cubo es:\", volumen)"
   ]
  },
  {
   "cell_type": "code",
   "execution_count": null,
   "metadata": {},
   "outputs": [
    {
     "name": "stdout",
     "output_type": "stream",
     "text": [
      "El volumen del cubo es: 27.0\n"
     ]
    }
   ],
   "source": [
    "alto = float(input(\"Ingrese el radio: \"))\n",
    "largo = float(input(\"Ingrese el largo: \"))\n",
    "ancho = float(input(\"Ingrese el ancho: \"))\n",
    "Volumen(alto,largo,ancho)"
   ]
  }
 ],
 "metadata": {
  "kernelspec": {
   "display_name": "Python 3",
   "language": "python",
   "name": "python3"
  },
  "language_info": {
   "codemirror_mode": {
    "name": "ipython",
    "version": 3
   },
   "file_extension": ".py",
   "mimetype": "text/x-python",
   "name": "python",
   "nbconvert_exporter": "python",
   "pygments_lexer": "ipython3",
   "version": "3.12.6"
  }
 },
 "nbformat": 4,
 "nbformat_minor": 2
}
