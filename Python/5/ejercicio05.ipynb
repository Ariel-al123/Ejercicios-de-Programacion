{
 "cells": [
  {
   "cell_type": "markdown",
   "metadata": {},
   "source": [
    "#### Calcula el perimetro y el area de un cuadrado, preguntale su lado"
   ]
  },
  {
   "cell_type": "code",
   "execution_count": null,
   "metadata": {},
   "outputs": [],
   "source": [
    "def cuadrado(lado, base):\n",
    "    perimetro = (lado*2)+(base*2)\n",
    "    area = lado * base\n",
    "    print(\"El Perimetro es: \", perimetro)\n",
    "    print(\"El Área es: \", area)"
   ]
  },
  {
   "cell_type": "code",
   "execution_count": 7,
   "metadata": {},
   "outputs": [
    {
     "name": "stdout",
     "output_type": "stream",
     "text": [
      "Perimetro y Área de un cuadrado\n",
      "El Perimetro es:  25.0\n",
      "El Área es:  34.86000000000001\n"
     ]
    }
   ],
   "source": [
    "print(\"Perimetro y Área de un cuadrado\")\n",
    "lado:float = 8.3\n",
    "base:float = 4.2\n",
    "cuadrado(lado, base)"
   ]
  },
  {
   "cell_type": "code",
   "execution_count": null,
   "metadata": {},
   "outputs": [],
   "source": []
  }
 ],
 "metadata": {
  "kernelspec": {
   "display_name": "Python 3",
   "language": "python",
   "name": "python3"
  },
  "language_info": {
   "codemirror_mode": {
    "name": "ipython",
    "version": 3
   },
   "file_extension": ".py",
   "mimetype": "text/x-python",
   "name": "python",
   "nbconvert_exporter": "python",
   "pygments_lexer": "ipython3",
   "version": "3.12.6"
  }
 },
 "nbformat": 4,
 "nbformat_minor": 2
}
